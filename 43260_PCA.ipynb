{
 "cells": [
  {
   "cell_type": "code",
   "execution_count": 1,
   "source": [
    "import pandas as pd\r\n",
    "import numpy as np"
   ],
   "outputs": [],
   "metadata": {}
  },
  {
   "cell_type": "code",
   "execution_count": 41,
   "source": [
    "A = [ 2.5, 0.5, 2.2, 1.9, 3.1, 2.3, 2, 1, 1.5, 1.1 ]\r\n"
   ],
   "outputs": [],
   "metadata": {}
  },
  {
   "cell_type": "code",
   "execution_count": 42,
   "source": [
    "A_mean = np.sum(A)/ len(A)\r\n",
    "print(A_mean)"
   ],
   "outputs": [
    {
     "output_type": "stream",
     "name": "stdout",
     "text": [
      "1.81\n"
     ]
    }
   ],
   "metadata": {}
  },
  {
   "cell_type": "code",
   "execution_count": 43,
   "source": [
    "B = [ 2.4, 0.7, 2.9, 2.2, 3, 2.7, 1.6, 1.1, 1.6, 0.9]"
   ],
   "outputs": [],
   "metadata": {}
  },
  {
   "cell_type": "code",
   "execution_count": 56,
   "source": [
    "B_mean = np.sum(B) / len(B)\r\n",
    "print(B_mean)\r\n"
   ],
   "outputs": [
    {
     "output_type": "stream",
     "name": "stdout",
     "text": [
      "1.9100000000000001\n"
     ]
    }
   ],
   "metadata": {}
  },
  {
   "cell_type": "code",
   "execution_count": 58,
   "source": [
    "A1 = A - A_mean\r\n",
    "print(A1)"
   ],
   "outputs": [
    {
     "output_type": "stream",
     "name": "stdout",
     "text": [
      "[ 0.69 -1.31  0.39  0.09  1.29  0.49  0.19 -0.81 -0.31 -0.71]\n"
     ]
    }
   ],
   "metadata": {}
  },
  {
   "cell_type": "code",
   "execution_count": 59,
   "source": [
    "B1 = B - B_mean\r\n",
    "print(B1)"
   ],
   "outputs": [
    {
     "output_type": "stream",
     "name": "stdout",
     "text": [
      "[ 0.49 -1.21  0.99  0.29  1.09  0.79 -0.31 -0.81 -0.31 -1.01]\n"
     ]
    }
   ],
   "metadata": {}
  },
  {
   "cell_type": "code",
   "execution_count": 63,
   "source": [
    "A1A1 = np.multiply(A1,A1)\r\n",
    "print(A1A1)"
   ],
   "outputs": [
    {
     "output_type": "stream",
     "name": "stdout",
     "text": [
      "[0.4761 1.7161 0.1521 0.0081 1.6641 0.2401 0.0361 0.6561 0.0961 0.5041]\n"
     ]
    }
   ],
   "metadata": {}
  },
  {
   "cell_type": "code",
   "execution_count": 64,
   "source": [
    "B1B1 = np.multiply(B1,B1)\r\n",
    "print(B1B1)"
   ],
   "outputs": [
    {
     "output_type": "stream",
     "name": "stdout",
     "text": [
      "[0.2401 1.4641 0.9801 0.0841 1.1881 0.6241 0.0961 0.6561 0.0961 1.0201]\n"
     ]
    }
   ],
   "metadata": {}
  },
  {
   "cell_type": "code",
   "execution_count": 66,
   "source": [
    "A1B1 = np.multiply(A1,B1)\r\n",
    "print(A1B1)"
   ],
   "outputs": [
    {
     "output_type": "stream",
     "name": "stdout",
     "text": [
      "[ 0.3381  1.5851  0.3861  0.0261  1.4061  0.3871 -0.0589  0.6561  0.0961\n",
      "  0.7171]\n"
     ]
    }
   ],
   "metadata": {}
  },
  {
   "cell_type": "code",
   "execution_count": 73,
   "source": [
    "A1A1_mean = np.sum(A1A1) / (len(A) - 1)\r\n",
    "print(A1A1_mean)\r\n"
   ],
   "outputs": [
    {
     "output_type": "stream",
     "name": "stdout",
     "text": [
      "0.6165555555555556\n"
     ]
    }
   ],
   "metadata": {}
  },
  {
   "cell_type": "code",
   "execution_count": 75,
   "source": [
    "B1B1_mean = np.sum(B1B1) / (len(A) - 1)\r\n",
    "print(B1B1_mean)"
   ],
   "outputs": [
    {
     "output_type": "stream",
     "name": "stdout",
     "text": [
      "0.7165555555555555\n"
     ]
    }
   ],
   "metadata": {}
  },
  {
   "cell_type": "code",
   "execution_count": 76,
   "source": [
    "A1B1_mean = np.sum(A1B1) / (len(A) - 1)\r\n",
    "print(A1B1_mean)"
   ],
   "outputs": [
    {
     "output_type": "stream",
     "name": "stdout",
     "text": [
      "0.6154444444444445\n"
     ]
    }
   ],
   "metadata": {}
  },
  {
   "cell_type": "code",
   "execution_count": 79,
   "source": [
    "import math"
   ],
   "outputs": [],
   "metadata": {}
  },
  {
   "cell_type": "code",
   "execution_count": 78,
   "source": [
    "# C = [[A1A1_mean, A1B1_mean],\r\n",
    "#     [A1B1_mean, B1B1_mean]]\r\n",
    "# Eigen Values : C - lamba*I = 0\r\n",
    "# (A1A1_mean - lambda) * (B1B1_mean - lambda) - (A1B1_mean * A1B1_mean) = 0\r\n",
    "# lambda*lambda + A1A1_mean*B1B1_mean - lambda * (A1A1_mean + B1B1_mean) - (A1B1_mean * A1B1_mean) = 0"
   ],
   "outputs": [],
   "metadata": {}
  },
  {
   "cell_type": "code",
   "execution_count": 94,
   "source": [
    "a = 1\r\n",
    "b = -( A1A1_mean + B1B1_mean)\r\n",
    "print(b)\r\n",
    "c =  A1A1_mean*B1B1_mean - A1B1_mean*A1B1_mean\r\n",
    "print(c)"
   ],
   "outputs": [
    {
     "output_type": "stream",
     "name": "stdout",
     "text": [
      "-1.3331111111111111\n",
      "0.06302444444444444\n"
     ]
    }
   ],
   "metadata": {}
  },
  {
   "cell_type": "code",
   "execution_count": 97,
   "source": [
    "lambda1 = ( -b + ( math.sqrt( b*b - 4*a*c) ) ) /2*a\r\n",
    "lambda2 = ( -b - ( math.sqrt( b*b - 4*a*c) ) ) /2*a\r\n",
    "# lambda1 = ( (A1A1_mean + B1B1_mean) + math.sqrt(   (A1A1_mean + B1B1_mean)*(A1A1_mean + B1B1_mean) + (4*(A1B1_mean * A1B1_mean))   ) ) / 2\r\n",
    "# lambda2 = ( (A1A1_mean + B1B1_mean) - math.sqrt(   (A1A1_mean + B1B1_mean)*(A1A1_mean + B1B1_mean) + (4*(A1B1_mean * A1B1_mean))   ) ) / 2"
   ],
   "outputs": [],
   "metadata": {}
  },
  {
   "cell_type": "code",
   "execution_count": 98,
   "source": [
    "print(lambda1)\r\n",
    "print(lambda2)"
   ],
   "outputs": [
    {
     "output_type": "stream",
     "name": "stdout",
     "text": [
      "1.2840277121727839\n",
      "0.04908339893832725\n"
     ]
    }
   ],
   "metadata": {}
  },
  {
   "cell_type": "code",
   "execution_count": null,
   "source": [
    "#  ( C - lambda1*I ) * U1 = 0\r\n",
    "# U1 = [u1, u2], U2 = [u1 , u2]"
   ],
   "outputs": [],
   "metadata": {}
  },
  {
   "cell_type": "code",
   "execution_count": 104,
   "source": [
    "t1=1"
   ],
   "outputs": [],
   "metadata": {}
  },
  {
   "cell_type": "code",
   "execution_count": 105,
   "source": [
    "u1 = t1 * ( - A1B1_mean )\r\n",
    "u2 = t1 * ( A1A1_mean - lambda1)\r\n",
    "U1 = [u1, u2]\r\n",
    "print(U1)"
   ],
   "outputs": [
    {
     "output_type": "stream",
     "name": "stdout",
     "text": [
      "[-0.6154444444444445, -0.6674721566172283]\n"
     ]
    }
   ],
   "metadata": {}
  },
  {
   "cell_type": "code",
   "execution_count": 106,
   "source": [
    "# Normalisation\r\n",
    "denominator_U1 = math.sqrt( u1*u1 + u2*u2 )\r\n",
    "e1 = [ u1/denominator_U1, u2/denominator_U1]\r\n",
    "print(e1)"
   ],
   "outputs": [
    {
     "output_type": "stream",
     "name": "stdout",
     "text": [
      "[-0.6778733985280118, -0.7351786555444081]\n"
     ]
    }
   ],
   "metadata": {}
  },
  {
   "cell_type": "code",
   "execution_count": 107,
   "source": [
    "u1 = t1 * ( - A1B1_mean )\r\n",
    "u2 = t1 * ( A1A1_mean - lambda2)\r\n",
    "U2 = [u1, u2]\r\n",
    "print(U2)"
   ],
   "outputs": [
    {
     "output_type": "stream",
     "name": "stdout",
     "text": [
      "[-0.6154444444444445, 0.5674721566172284]\n"
     ]
    }
   ],
   "metadata": {}
  },
  {
   "cell_type": "code",
   "execution_count": 109,
   "source": [
    "# Normalisation\r\n",
    "denominator_U2 = math.sqrt( u1*u1 + u2*u2 )\r\n",
    "e2 = [ u1/denominator_U2, u2/denominator_U2]\r\n",
    "print(e2)"
   ],
   "outputs": [
    {
     "output_type": "stream",
     "name": "stdout",
     "text": [
      "[-0.7351786555444081, 0.6778733985280118]\n"
     ]
    }
   ],
   "metadata": {}
  },
  {
   "cell_type": "markdown",
   "source": [
    "# OUTPUT"
   ],
   "metadata": {}
  },
  {
   "cell_type": "markdown",
   "source": [
    "## New Mapped Datasets"
   ],
   "metadata": {}
  },
  {
   "cell_type": "code",
   "execution_count": 113,
   "source": [
    "PCA1 = e1[0]*A1 + e1[1]*B1\r\n",
    "print(PCA1)"
   ],
   "outputs": [
    {
     "output_type": "stream",
     "name": "stdout",
     "text": [
      "[-0.82797019  1.77758033 -0.99219749 -0.27421042 -1.67580142 -0.9129491\n",
      "  0.09910944  1.14457216  0.43804614  1.22382056]\n"
     ]
    }
   ],
   "metadata": {}
  },
  {
   "cell_type": "code",
   "execution_count": 114,
   "source": [
    "PCA2 = e2[0]*A1 + e2[1]*B1\r\n",
    "print(PCA2)"
   ],
   "outputs": [
    {
     "output_type": "stream",
     "name": "stdout",
     "text": [
      "[-0.17511531  0.14285723  0.38437499  0.13041721 -0.20949846  0.17528244\n",
      " -0.3498247   0.04641726  0.01776463 -0.16267529]\n"
     ]
    }
   ],
   "metadata": {}
  }
 ],
 "metadata": {
  "orig_nbformat": 4,
  "language_info": {
   "name": "python",
   "version": "3.9.6",
   "mimetype": "text/x-python",
   "codemirror_mode": {
    "name": "ipython",
    "version": 3
   },
   "pygments_lexer": "ipython3",
   "nbconvert_exporter": "python",
   "file_extension": ".py"
  },
  "kernelspec": {
   "name": "python3",
   "display_name": "Python 3.9.6 64-bit"
  },
  "interpreter": {
   "hash": "1ecb853244e9b4d7a18bb3febccb34fc156bcfc9b14505a82a7732e2c7c00811"
  }
 },
 "nbformat": 4,
 "nbformat_minor": 2
}